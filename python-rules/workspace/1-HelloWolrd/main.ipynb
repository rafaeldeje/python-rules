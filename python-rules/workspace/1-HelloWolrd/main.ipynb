{
 "cells": [
  {
   "cell_type": "code",
   "execution_count": 1,
   "metadata": {},
   "outputs": [
    {
     "name": "stdout",
     "output_type": "stream",
     "text": [
      "Oi\n",
      "2\n",
      "5.0\n"
     ]
    }
   ],
   "source": [
    "# Usando a função \"print()\" para mostrar coisas na tela\n",
    "print(\"Oi\")        # Mostra \"Oi\"\n",
    "print(1 + 1)       # Mostra 2 (resultado da soma)\n",
    "print(10 / 2)      # Mostra 5 (resultado da divisão)"
   ]
  },
  {
   "cell_type": "code",
   "execution_count": 7,
   "metadata": {},
   "outputs": [
    {
     "name": "stdout",
     "output_type": "stream",
     "text": [
      "Meu nome é Rafael, tenho 28 anos e tenho 1.93 de Altura.\n"
     ]
    }
   ],
   "source": [
    "# Variáveis\n",
    "Nome = \"Rafael\"  # Armazena um nome (string)\n",
    "Idade = 28       # Armazena a idade (int)\n",
    "Altura = 1.93    # Armazena a altura (float)\n",
    "\n",
    "print(\"Meu nome é \" + Nome + \", tenho \" + str(Idade) + \" anos e tenho \" + str(Altura) + \" de Altura.\")"
   ]
  },
  {
   "cell_type": "code",
   "execution_count": 15,
   "metadata": {},
   "outputs": [
    {
     "name": "stdout",
     "output_type": "stream",
     "text": [
      "True\n"
     ]
    }
   ],
   "source": [
    "# Variáveis Booleanas\n",
    "is_python = True   # Verdadeira (True)\n",
    "is_dotnet = False  # Falsa (False)\n",
    "\n",
    "language = input(\"Qual linguagem você está estudando? \")\n",
    "\n",
    "if language.lower() == \"python\":  # Usei lower() para tornar a entrada em minúsculas e evitar problemas de maiúsculas/minúsculas.\n",
    "    print(is_python)  # Se a linguagem for Python, isso imprimirá True.\n",
    "else:\n",
    "    print(is_dotnet)  # Se a linguagem não for Python, isso imprimirá False."
   ]
  },
  {
   "cell_type": "code",
   "execution_count": 28,
   "metadata": {},
   "outputs": [
    {
     "name": "stdout",
     "output_type": "stream",
     "text": [
      "Não há ingressos suficientes\n"
     ]
    }
   ],
   "source": [
    "#Armazenando condições\n",
    "ingressos = int(input(\"Digite aqui quantos ingressos há: \"))\n",
    "compradores = int(input(\"Digite aqui quantos compradores há: \"))\n",
    "\n",
    "if compradores >= ingressos:\n",
    "    print(\"Não há ingressos suficientes\")\n",
    "else:\n",
    "    print(\"Há ingressos suficientes\")"
   ]
  }
 ],
 "metadata": {
  "kernelspec": {
   "display_name": "Python 3",
   "language": "python",
   "name": "python3"
  },
  "language_info": {
   "codemirror_mode": {
    "name": "ipython",
    "version": 3
   },
   "file_extension": ".py",
   "mimetype": "text/x-python",
   "name": "python",
   "nbconvert_exporter": "python",
   "pygments_lexer": "ipython3",
   "version": "3.12.0"
  }
 },
 "nbformat": 4,
 "nbformat_minor": 2
}
